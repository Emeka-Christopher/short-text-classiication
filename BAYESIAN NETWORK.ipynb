{
 "cells": [
  {
   "cell_type": "code",
   "execution_count": 1,
   "id": "a04970d5",
   "metadata": {},
   "outputs": [],
   "source": [
    "#!pip install --upgrade networkx"
   ]
  },
  {
   "cell_type": "code",
   "execution_count": 2,
   "id": "986a2c3f",
   "metadata": {},
   "outputs": [],
   "source": [
    "#!pip install pybbn"
   ]
  },
  {
   "cell_type": "code",
   "execution_count": 3,
   "id": "aa4cc7c4",
   "metadata": {},
   "outputs": [],
   "source": [
    "\n",
    "import pandas as pd # for data manipulation \n",
    "import networkx as nx # for drawing graphs\n",
    "import matplotlib.pyplot as plt # for drawing graphs\n",
    "import numpy as np\n",
    "\n",
    "# for creating Bayesian Belief Networks (BBN)\n",
    "from pybbn.graph.dag import Bbn\n",
    "from pybbn.graph.edge import Edge, EdgeType\n",
    "from pybbn.graph.jointree import EvidenceBuilder\n",
    "from pybbn.graph.node import BbnNode\n",
    "from pybbn.graph.variable import Variable\n",
    "from pybbn.pptc.inferencecontroller import InferenceController"
   ]
  },
  {
   "cell_type": "code",
   "execution_count": 4,
   "id": "b2339e67",
   "metadata": {},
   "outputs": [],
   "source": [
    "# Read in the data csv\n",
    "df = pd.read_csv('https://archive.ics.uci.edu/ml/machine-learning-databases/breast-cancer-wisconsin/breast-cancer-wisconsin.data', header = None, encoding='utf-8')"
   ]
  },
  {
   "cell_type": "code",
   "execution_count": 5,
   "id": "771c25d8",
   "metadata": {},
   "outputs": [
    {
     "name": "stdout",
     "output_type": "stream",
     "text": [
      "<class 'pandas.core.frame.DataFrame'>\n",
      "RangeIndex: 699 entries, 0 to 698\n",
      "Data columns (total 11 columns):\n",
      " #   Column  Non-Null Count  Dtype \n",
      "---  ------  --------------  ----- \n",
      " 0   0       699 non-null    int64 \n",
      " 1   1       699 non-null    int64 \n",
      " 2   2       699 non-null    int64 \n",
      " 3   3       699 non-null    int64 \n",
      " 4   4       699 non-null    int64 \n",
      " 5   5       699 non-null    int64 \n",
      " 6   6       699 non-null    object\n",
      " 7   7       699 non-null    int64 \n",
      " 8   8       699 non-null    int64 \n",
      " 9   9       699 non-null    int64 \n",
      " 10  10      699 non-null    int64 \n",
      "dtypes: int64(10), object(1)\n",
      "memory usage: 60.2+ KB\n"
     ]
    }
   ],
   "source": [
    "df.info()"
   ]
  },
  {
   "cell_type": "code",
   "execution_count": 6,
   "id": "72b89810",
   "metadata": {},
   "outputs": [],
   "source": [
    "df.columns = ['ID', 'Clump Thickness', 'Uniformity of Cell Size', 'Uniformity of Cell Shape', 'Marginal Adhesion', 'Single Epithelial Cell Size', 'Bare Nuclei', 'Bland Chromatin', 'Normal Nucleoli', \n",
    "              'Mitosis', 'Class (Benign/malignant)']"
   ]
  },
  {
   "cell_type": "code",
   "execution_count": 7,
   "id": "46f5fa34",
   "metadata": {},
   "outputs": [
    {
     "data": {
      "text/html": [
       "<div>\n",
       "<style scoped>\n",
       "    .dataframe tbody tr th:only-of-type {\n",
       "        vertical-align: middle;\n",
       "    }\n",
       "\n",
       "    .dataframe tbody tr th {\n",
       "        vertical-align: top;\n",
       "    }\n",
       "\n",
       "    .dataframe thead th {\n",
       "        text-align: right;\n",
       "    }\n",
       "</style>\n",
       "<table border=\"1\" class=\"dataframe\">\n",
       "  <thead>\n",
       "    <tr style=\"text-align: right;\">\n",
       "      <th></th>\n",
       "      <th>ID</th>\n",
       "      <th>Clump Thickness</th>\n",
       "      <th>Uniformity of Cell Size</th>\n",
       "      <th>Uniformity of Cell Shape</th>\n",
       "      <th>Marginal Adhesion</th>\n",
       "      <th>Single Epithelial Cell Size</th>\n",
       "      <th>Bare Nuclei</th>\n",
       "      <th>Bland Chromatin</th>\n",
       "      <th>Normal Nucleoli</th>\n",
       "      <th>Mitosis</th>\n",
       "      <th>Class (Benign/malignant)</th>\n",
       "    </tr>\n",
       "  </thead>\n",
       "  <tbody>\n",
       "    <tr>\n",
       "      <th>0</th>\n",
       "      <td>1000025</td>\n",
       "      <td>5</td>\n",
       "      <td>1</td>\n",
       "      <td>1</td>\n",
       "      <td>1</td>\n",
       "      <td>2</td>\n",
       "      <td>1</td>\n",
       "      <td>3</td>\n",
       "      <td>1</td>\n",
       "      <td>1</td>\n",
       "      <td>2</td>\n",
       "    </tr>\n",
       "    <tr>\n",
       "      <th>1</th>\n",
       "      <td>1002945</td>\n",
       "      <td>5</td>\n",
       "      <td>4</td>\n",
       "      <td>4</td>\n",
       "      <td>5</td>\n",
       "      <td>7</td>\n",
       "      <td>10</td>\n",
       "      <td>3</td>\n",
       "      <td>2</td>\n",
       "      <td>1</td>\n",
       "      <td>2</td>\n",
       "    </tr>\n",
       "    <tr>\n",
       "      <th>2</th>\n",
       "      <td>1015425</td>\n",
       "      <td>3</td>\n",
       "      <td>1</td>\n",
       "      <td>1</td>\n",
       "      <td>1</td>\n",
       "      <td>2</td>\n",
       "      <td>2</td>\n",
       "      <td>3</td>\n",
       "      <td>1</td>\n",
       "      <td>1</td>\n",
       "      <td>2</td>\n",
       "    </tr>\n",
       "    <tr>\n",
       "      <th>3</th>\n",
       "      <td>1016277</td>\n",
       "      <td>6</td>\n",
       "      <td>8</td>\n",
       "      <td>8</td>\n",
       "      <td>1</td>\n",
       "      <td>3</td>\n",
       "      <td>4</td>\n",
       "      <td>3</td>\n",
       "      <td>7</td>\n",
       "      <td>1</td>\n",
       "      <td>2</td>\n",
       "    </tr>\n",
       "    <tr>\n",
       "      <th>4</th>\n",
       "      <td>1017023</td>\n",
       "      <td>4</td>\n",
       "      <td>1</td>\n",
       "      <td>1</td>\n",
       "      <td>3</td>\n",
       "      <td>2</td>\n",
       "      <td>1</td>\n",
       "      <td>3</td>\n",
       "      <td>1</td>\n",
       "      <td>1</td>\n",
       "      <td>2</td>\n",
       "    </tr>\n",
       "  </tbody>\n",
       "</table>\n",
       "</div>"
      ],
      "text/plain": [
       "        ID  Clump Thickness  Uniformity of Cell Size  \\\n",
       "0  1000025                5                        1   \n",
       "1  1002945                5                        4   \n",
       "2  1015425                3                        1   \n",
       "3  1016277                6                        8   \n",
       "4  1017023                4                        1   \n",
       "\n",
       "   Uniformity of Cell Shape  Marginal Adhesion  Single Epithelial Cell Size  \\\n",
       "0                         1                  1                            2   \n",
       "1                         4                  5                            7   \n",
       "2                         1                  1                            2   \n",
       "3                         8                  1                            3   \n",
       "4                         1                  3                            2   \n",
       "\n",
       "  Bare Nuclei  Bland Chromatin  Normal Nucleoli  Mitosis  \\\n",
       "0           1                3                1        1   \n",
       "1          10                3                2        1   \n",
       "2           2                3                1        1   \n",
       "3           4                3                7        1   \n",
       "4           1                3                1        1   \n",
       "\n",
       "   Class (Benign/malignant)  \n",
       "0                         2  \n",
       "1                         2  \n",
       "2                         2  \n",
       "3                         2  \n",
       "4                         2  "
      ]
     },
     "execution_count": 7,
     "metadata": {},
     "output_type": "execute_result"
    }
   ],
   "source": [
    "df.head()"
   ]
  },
  {
   "cell_type": "code",
   "execution_count": 8,
   "id": "5767e84d",
   "metadata": {},
   "outputs": [
    {
     "data": {
      "text/plain": [
       "ID                             645\n",
       "Clump Thickness                 10\n",
       "Uniformity of Cell Size         10\n",
       "Uniformity of Cell Shape        10\n",
       "Marginal Adhesion               10\n",
       "Single Epithelial Cell Size     10\n",
       "Bare Nuclei                     11\n",
       "Bland Chromatin                 10\n",
       "Normal Nucleoli                 10\n",
       "Mitosis                          9\n",
       "Class (Benign/malignant)         2\n",
       "dtype: int64"
      ]
     },
     "execution_count": 8,
     "metadata": {},
     "output_type": "execute_result"
    }
   ],
   "source": [
    "df.nunique()"
   ]
  },
  {
   "cell_type": "code",
   "execution_count": 9,
   "id": "0efac23a",
   "metadata": {},
   "outputs": [
    {
     "data": {
      "text/plain": [
       "11"
      ]
     },
     "execution_count": 9,
     "metadata": {},
     "output_type": "execute_result"
    }
   ],
   "source": [
    "df['Bare Nuclei'].nunique()"
   ]
  },
  {
   "cell_type": "code",
   "execution_count": 10,
   "id": "ea2f1145",
   "metadata": {},
   "outputs": [
    {
     "data": {
      "text/plain": [
       "ID                             0\n",
       "Clump Thickness                0\n",
       "Uniformity of Cell Size        0\n",
       "Uniformity of Cell Shape       0\n",
       "Marginal Adhesion              0\n",
       "Single Epithelial Cell Size    0\n",
       "Bare Nuclei                    0\n",
       "Bland Chromatin                0\n",
       "Normal Nucleoli                0\n",
       "Mitosis                        0\n",
       "Class (Benign/malignant)       0\n",
       "dtype: int64"
      ]
     },
     "execution_count": 10,
     "metadata": {},
     "output_type": "execute_result"
    }
   ],
   "source": [
    "df.isna().sum()"
   ]
  },
  {
   "cell_type": "code",
   "execution_count": 11,
   "id": "0d870a82",
   "metadata": {},
   "outputs": [
    {
     "name": "stdout",
     "output_type": "stream",
     "text": [
      "<class 'pandas.core.frame.DataFrame'>\n",
      "RangeIndex: 699 entries, 0 to 698\n",
      "Data columns (total 11 columns):\n",
      " #   Column                       Non-Null Count  Dtype \n",
      "---  ------                       --------------  ----- \n",
      " 0   ID                           699 non-null    int64 \n",
      " 1   Clump Thickness              699 non-null    int64 \n",
      " 2   Uniformity of Cell Size      699 non-null    int64 \n",
      " 3   Uniformity of Cell Shape     699 non-null    int64 \n",
      " 4   Marginal Adhesion            699 non-null    int64 \n",
      " 5   Single Epithelial Cell Size  699 non-null    int64 \n",
      " 6   Bare Nuclei                  699 non-null    object\n",
      " 7   Bland Chromatin              699 non-null    int64 \n",
      " 8   Normal Nucleoli              699 non-null    int64 \n",
      " 9   Mitosis                      699 non-null    int64 \n",
      " 10  Class (Benign/malignant)     699 non-null    int64 \n",
      "dtypes: int64(10), object(1)\n",
      "memory usage: 60.2+ KB\n"
     ]
    }
   ],
   "source": [
    "df.drop_duplicates()\n",
    "\n",
    "df.info()"
   ]
  },
  {
   "cell_type": "code",
   "execution_count": 12,
   "id": "24f3c130",
   "metadata": {},
   "outputs": [
    {
     "data": {
      "text/plain": [
       "array(['1', '10', '2', '4', '3', '9', '7', '?', '5', '8', '6'],\n",
       "      dtype=object)"
      ]
     },
     "execution_count": 12,
     "metadata": {},
     "output_type": "execute_result"
    }
   ],
   "source": [
    "df['Bare Nuclei'].unique()"
   ]
  },
  {
   "cell_type": "code",
   "execution_count": 24,
   "id": "1a244697",
   "metadata": {},
   "outputs": [],
   "source": [
    "df['Bare Nuclei']= df['Bare Nuclei'].replace('?', np.nan)"
   ]
  },
  {
   "cell_type": "code",
   "execution_count": 25,
   "id": "9a00ee6d",
   "metadata": {},
   "outputs": [
    {
     "data": {
      "text/plain": [
       "ID                              0\n",
       "Clump Thickness                 0\n",
       "Uniformity of Cell Size         0\n",
       "Uniformity of Cell Shape        0\n",
       "Marginal Adhesion               0\n",
       "Single Epithelial Cell Size     0\n",
       "Bare Nuclei                    16\n",
       "Bland Chromatin                 0\n",
       "Normal Nucleoli                 0\n",
       "Mitosis                         0\n",
       "Class (Benign/malignant)        0\n",
       "dtype: int64"
      ]
     },
     "execution_count": 25,
     "metadata": {},
     "output_type": "execute_result"
    }
   ],
   "source": [
    "df.isna().sum()"
   ]
  },
  {
   "cell_type": "code",
   "execution_count": 29,
   "id": "fab4c2a2",
   "metadata": {},
   "outputs": [],
   "source": [
    "#replace all NaN values with zeros\n",
    "df['Bare Nuclei'] = df['Bare Nuclei'].fillna(0)\n",
    "\n",
    "df['Bare Nuclei'] = df['Bare Nuclei'].astype(int)\n",
    "#Finding the mean of the column having NaN\n",
    "mean_value= df['Bare Nuclei'].mean().round()\n",
    "mean_value  \n",
    "\n",
    "# Replace NaNs in column with the mean of values in the same column\n",
    "df['Bare Nuclei'].fillna(value= mean_value, inplace=True)\n"
   ]
  },
  {
   "cell_type": "code",
   "execution_count": null,
   "id": "c539ac3e",
   "metadata": {},
   "outputs": [],
   "source": [
    "df=df.fillna(df.mean())"
   ]
  },
  {
   "cell_type": "code",
   "execution_count": 34,
   "id": "fd3f3048",
   "metadata": {},
   "outputs": [],
   "source": [
    "\n",
    "# calculate the conditional probability for clump_thickness\n",
    "clump_thickness_cpd = df.groupby(['Clump Thickness', 'Class (Benign/malignant)']).size().reset_index(name='counts')\n",
    "clump_thickness_cpd = clump_thickness_cpd.pivot(index='Clump Thickness', columns='Class (Benign/malignant)', values='counts')\n",
    "clump_thickness_cpd = clump_thickness_cpd.div(clump_thickness_cpd.sum(axis=1), axis=0)\n",
    "\n",
    "# calculate the conditional probability for uniformity_of_cell_size\n",
    "uniformity_of_cell_size_cpd = df.groupby(['Uniformity of Cell Size', 'Class (Benign/malignant)']).size().reset_index(name='counts')\n",
    "uniformity_of_cell_size_cpd = uniformity_of_cell_size_cpd.pivot(index='Uniformity of Cell Size', columns='Class (Benign/malignant)', values='counts')\n",
    "uniformity_of_cell_size_cpd = uniformity_of_cell_size_cpd.div(uniformity_of_cell_size_cpd.sum(axis=1), axis=0)\n",
    "\n",
    "# Calculate the conditional probability for uniformity_of_cell_shape\n",
    "uniformity_of_cell_shape_cpd = df.groupby(['Uniformity of Cell Shape', 'Class (Benign/malignant)']).size().reset_index(name='counts')\n",
    "uniformity_of_cell_shape_cpd = uniformity_of_cell_shape_cpd.pivot(index='Uniformity of Cell Shape', columns='Class (Benign/malignant)', values='counts')\n",
    "uniformity_of_cell_shape_cpd = uniformity_of_cell_shape_cpd.div(uniformity_of_cell_shape_cpd.sum(axis=1), axis=0)\n",
    "\n",
    "# Calculate the conditional probability for marginal_adhesion\n",
    "marginal_adhesion_cpd = df.groupby(['Marginal Adhesion', 'Class (Benign/malignant)']).size().reset_index(name='counts')\n",
    "marginal_adhesion_cpd = marginal_adhesion_cpd.pivot(index='Marginal Adhesion', columns='Class (Benign/malignant)', values='counts')\n",
    "marginal_adhesion_cpd = marginal_adhesion_cpd.div(marginal_adhesion_cpd.sum(axis=1), axis=0)\n",
    "\n",
    "\n",
    "# Calculate the conditional probability for single_epithelial_cell_size\n",
    "single_epithelial_cell_size_cpd = df.groupby(['Single Epithelial Cell Size', 'Class (Benign/malignant)']).size().reset_index(name='counts')\n",
    "single_epithelial_cell_size_cpd = single_epithelial_cell_size_cpd.pivot(index='Single Epithelial Cell Size', columns='Class (Benign/malignant)', values='counts')\n",
    "single_epithelial_cell_size_cpd = single_epithelial_cell_size_cpd.div(single_epithelial_cell_size_cpd.sum(axis=1), axis=0)\n",
    "\n",
    "\n",
    "# Calculate the conditional probability for bare_nuclei\n",
    "bare_nuclei_cpd = df.groupby(['Bare Nuclei', 'Class (Benign/malignant)']).size().reset_index(name='counts')\n",
    "bare_nuclei_cpd = bare_nuclei_cpd.pivot(index='Bare Nuclei', columns='Class (Benign/malignant)', values='counts')\n",
    "bare_nuclei_cpd = bare_nuclei_cpd.div(bare_nuclei_cpd.sum(axis=1), axis=0)\n",
    "\n",
    "\n",
    "# Calculate the conditional probability for bland_chromatin\n",
    "bland_chromatin_cpd = df.groupby(['Bland Chromatin', 'Class (Benign/malignant)']).size().reset_index(name='counts')\n",
    "bland_chromatin_cpd = bland_chromatin_cpd.pivot(index='Bland Chromatin', columns='Class (Benign/malignant)', values='counts')\n",
    "bland_chromatin_cpd = bland_chromatin_cpd.div(bland_chromatin_cpd.sum(axis=1), axis=0)\n",
    "\n",
    "# Calculate the conditional probability for bland_chromatin\n",
    "normal_nucleoli_cpd = df.groupby(['Normal Nucleoli', 'Class (Benign/malignant)']).size().reset_index(name='counts')\n",
    "normal_nucleoli_cpd = normal_nucleoli_cpd.pivot(index='Normal Nucleoli', columns='Class (Benign/malignant)', values='counts')\n",
    "normal_nucleoli_cpd = normal_nucleoli_cpd.div(normal_nucleoli_cpd.sum(axis=1), axis=0)\n",
    "\n",
    "# Calculate the conditional probability for Mitosis\n",
    "Mitosis_cpd = df.groupby(['Mitosis', 'Class (Benign/malignant)']).size().reset_index(name='counts')\n",
    "Mitosis_cpd = Mitosis_cpd.pivot(index='Mitosis', columns='Class (Benign/malignant)', values='counts')\n",
    "Mitosis_cpd = Mitosis_cpd.div(Mitosis_cpd.sum(axis=1), axis=0)\n"
   ]
  },
  {
   "cell_type": "code",
   "execution_count": 35,
   "id": "c6891c2e",
   "metadata": {},
   "outputs": [
    {
     "ename": "TypeError",
     "evalue": "Variable.__init__() missing 1 required positional argument: 'values'",
     "output_type": "error",
     "traceback": [
      "\u001b[0;31m---------------------------------------------------------------------------\u001b[0m",
      "\u001b[0;31mTypeError\u001b[0m                                 Traceback (most recent call last)",
      "Cell \u001b[0;32mIn[35], line 8\u001b[0m\n\u001b[1;32m      5\u001b[0m \u001b[38;5;28;01mfrom\u001b[39;00m \u001b[38;5;21;01mpybbn\u001b[39;00m\u001b[38;5;21;01m.\u001b[39;00m\u001b[38;5;21;01mpptc\u001b[39;00m\u001b[38;5;21;01m.\u001b[39;00m\u001b[38;5;21;01minferencecontroller\u001b[39;00m \u001b[38;5;28;01mimport\u001b[39;00m InferenceController\n\u001b[1;32m      7\u001b[0m \u001b[38;5;66;03m# Define the variables\u001b[39;00m\n\u001b[0;32m----> 8\u001b[0m clump_thickness \u001b[38;5;241m=\u001b[39m \u001b[43mVariable\u001b[49m\u001b[43m(\u001b[49m\u001b[38;5;124;43m'\u001b[39;49m\u001b[38;5;124;43mClump Thickness\u001b[39;49m\u001b[38;5;124;43m'\u001b[39;49m\u001b[43m,\u001b[49m\u001b[43m \u001b[49m\u001b[43m[\u001b[49m\u001b[38;5;241;43m1\u001b[39;49m\u001b[43m,\u001b[49m\u001b[43m \u001b[49m\u001b[38;5;241;43m2\u001b[39;49m\u001b[43m,\u001b[49m\u001b[43m \u001b[49m\u001b[38;5;241;43m3\u001b[39;49m\u001b[43m,\u001b[49m\u001b[43m \u001b[49m\u001b[38;5;241;43m4\u001b[39;49m\u001b[43m,\u001b[49m\u001b[43m \u001b[49m\u001b[38;5;241;43m5\u001b[39;49m\u001b[43m,\u001b[49m\u001b[43m \u001b[49m\u001b[38;5;241;43m6\u001b[39;49m\u001b[43m,\u001b[49m\u001b[43m \u001b[49m\u001b[38;5;241;43m7\u001b[39;49m\u001b[43m,\u001b[49m\u001b[43m \u001b[49m\u001b[38;5;241;43m8\u001b[39;49m\u001b[43m,\u001b[49m\u001b[43m \u001b[49m\u001b[38;5;241;43m9\u001b[39;49m\u001b[43m,\u001b[49m\u001b[43m \u001b[49m\u001b[38;5;241;43m10\u001b[39;49m\u001b[43m]\u001b[49m\u001b[43m)\u001b[49m\n\u001b[1;32m      9\u001b[0m uniformity_of_cell_size \u001b[38;5;241m=\u001b[39m Variable(\u001b[38;5;124m'\u001b[39m\u001b[38;5;124mUniformity of Cell Size\u001b[39m\u001b[38;5;124m'\u001b[39m, [\u001b[38;5;241m1\u001b[39m, \u001b[38;5;241m2\u001b[39m, \u001b[38;5;241m3\u001b[39m, \u001b[38;5;241m4\u001b[39m, \u001b[38;5;241m5\u001b[39m, \u001b[38;5;241m6\u001b[39m, \u001b[38;5;241m7\u001b[39m, \u001b[38;5;241m8\u001b[39m, \u001b[38;5;241m9\u001b[39m, \u001b[38;5;241m10\u001b[39m])\n\u001b[1;32m     10\u001b[0m uniformity_of_cell_shape \u001b[38;5;241m=\u001b[39m Variable(\u001b[38;5;124m'\u001b[39m\u001b[38;5;124mUniformity of Cell Shape\u001b[39m\u001b[38;5;124m'\u001b[39m, [\u001b[38;5;241m1\u001b[39m, \u001b[38;5;241m2\u001b[39m, \u001b[38;5;241m3\u001b[39m, \u001b[38;5;241m4\u001b[39m, \u001b[38;5;241m5\u001b[39m, \u001b[38;5;241m6\u001b[39m, \u001b[38;5;241m7\u001b[39m, \u001b[38;5;241m8\u001b[39m, \u001b[38;5;241m9\u001b[39m, \u001b[38;5;241m10\u001b[39m])\n",
      "\u001b[0;31mTypeError\u001b[0m: Variable.__init__() missing 1 required positional argument: 'values'"
     ]
    }
   ],
   "source": [
    "\n",
    "from pybbn.graph.dag import Bbn\n",
    "from pybbn.graph.edge import Edge\n",
    "from pybbn.graph.node import BbnNode\n",
    "from pybbn.graph.variable import Variable\n",
    "from pybbn.pptc.inferencecontroller import InferenceController\n",
    "\n",
    "# Define the variables\n",
    "clump_thickness = Variable('Clump Thickness', [1, 2, 3, 4, 5, 6, 7, 8, 9, 10])\n",
    "uniformity_of_cell_size = Variable('Uniformity of Cell Size', [1, 2, 3, 4, 5, 6, 7, 8, 9, 10])\n",
    "uniformity_of_cell_shape = Variable('Uniformity of Cell Shape', [1, 2, 3, 4, 5, 6, 7, 8, 9, 10])\n",
    "marginal_adhesion = Variable('Marginal Adhesion', [1, 2, 3, 4, 5, 6, 7, 8, 9, 10])\n",
    "single_epithelial_cell_size = Variable('Single Epithelial Cell Size', [1, 2, 3, 4, 5, 6, 7, 8, 9, 10])\n",
    "bare_nuclei = Variable('Bare Nuclei', [1, 2, 3, 4, 5, 6, 7, 8, 9, 10])\n",
    "bland_chromatin = Variable('Bland Chromatin', [1, 2, 3, 4, 5, 6, 7, 8, 9, 10])\n",
    "normal_nucleoli = Variable('Normal Nucleoli', [1, 2, 3, 4, 5, 6, 7, 8, 9, 10])\n",
    "mitoses = Variable('Mitoses', [1, 2, 3, 4, 5, 6, 7, 8, 9, 10])\n",
    "class_label = Variable('Class Label', [2, 4])\n",
    "\n",
    "# Create the BBN\n",
    "bbn = Bbn() \\\n",
    "    .add_node(BbnNode(clump_thickness)) \\\n",
    "    .add_node(BbnNode(uniformity_of_cell_size)) \\\n",
    "    .add_node(BbnNode(uniformity_of_cell_shape)) \\\n",
    "    .add_node(BbnNode(marginal_adhesion)) \\\n",
    "    .add_node(BbnNode(single_epithelial_cell_size)) \\\n",
    "    .add_node(BbnNode(bare_nuclei)) \\\n",
    "    .add_node(BbnNode(bland_chromatin)) \\\n",
    "    .add_node(BbnNode(normal_nucleoli)) \\\n",
    "    .add_node(BbnNode(mitoses)) \\\n",
    "    .add_node(BbnNode(class_label)) \\\n",
    "    .add_edge(Edge(clump_thickness, class_label)) \\\n",
    "    .add_edge(Edge(uniformity_of_cell_size, class_label)) \\\n",
    "    .add_edge(Edge(uniformity_of_cell_shape, class_label)) \\\n",
    "    .add_edge(Edge(marginal_adhesion, class_label)) \\\n",
    "    .add_edge(Edge(single_epithelial_cell_size, class_label)) \\\n",
    "    .add_edge(Edge(bare_nuclei, class_label)) \\\n",
    "    .add_edge(Edge(bland_chromatin, class_label)) \\\n",
    "    .add_edge(Edge(normal_nucleoli, class_label)) \\\n",
    "    .add_edge(Edge(mitoses, class_label))\n"
   ]
  },
  {
   "cell_type": "code",
   "execution_count": null,
   "id": "fc8a8aa1",
   "metadata": {},
   "outputs": [],
   "source": [
    "# train the network using the dataset\n",
    "\n",
    "# make a diagnosis on a new patient\n",
    "new_patient = [3, 3, 3, 3, 3, 3, 3, 3, 3]\n",
    "\n",
    "ic = InferenceController(bbn)\n",
    "class_label_posterior = ic.posterior(class_label, \n",
    "                                    evidence={clump_thickness: new_patient[0],\n",
    "                                              uniformity_of_cell_size: new_patient[1],\n",
    "                                              uniformity_of_cell_shape: new_patient[2],\n",
    "                                              marginal_adhesion: new_patient[3],\n",
    "                                              single_epithelial_cell_size: new_patient[4],\n",
    "                                              bare_nuclei: new_patient[5],\n",
    "                                              bland_chromatin: new_patient[6],\n",
    "                                              normal_nucleoli: new_patient[7],\n",
    "                                              mitoses: new_patient[8]})\n",
    "\n",
    "diagnosis = class_label_posterior.argmax()\n",
    "print('Diagnosis:', diagnosis)"
   ]
  }
 ],
 "metadata": {
  "kernelspec": {
   "display_name": "Python 3 (ipykernel)",
   "language": "python",
   "name": "python3"
  },
  "language_info": {
   "codemirror_mode": {
    "name": "ipython",
    "version": 3
   },
   "file_extension": ".py",
   "mimetype": "text/x-python",
   "name": "python",
   "nbconvert_exporter": "python",
   "pygments_lexer": "ipython3",
   "version": "3.10.8"
  }
 },
 "nbformat": 4,
 "nbformat_minor": 5
}
